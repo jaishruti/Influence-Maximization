{
  "cells": [
    {
      "cell_type": "markdown",
      "metadata": {
        "id": "view-in-github",
        "colab_type": "text"
      },
      "source": [
        "<a href=\"https://colab.research.google.com/github/jaishruti/Influence-Maximization/blob/main/InfluenceMaxLatest.ipynb\" target=\"_parent\"><img src=\"https://colab.research.google.com/assets/colab-badge.svg\" alt=\"Open In Colab\"/></a>"
      ]
    },
    {
      "cell_type": "markdown",
      "metadata": {
        "id": "dqVvEwFaIEbD"
      },
      "source": [
        "#Graph formation"
      ]
    },
    {
      "cell_type": "code",
      "execution_count": 14,
      "metadata": {
        "colab": {
          "base_uri": "https://localhost:8080/"
        },
        "id": "gk5Chw_UGpC9",
        "outputId": "3edfe9fb-e44e-4984-eef5-6d6d46c9305c"
      },
      "outputs": [
        {
          "output_type": "stream",
          "name": "stdout",
          "text": [
            "Number of nodes:  34\n",
            "Number of edges:  77\n"
          ]
        }
      ],
      "source": [
        "import networkx as nx\n",
        "\n",
        "#specifying path to edge list file\n",
        "path_dataset = 'sample_data/Dataset1.txt'\n",
        "\n",
        "#reading edge-list for graph formation\n",
        "graph = nx.read_edgelist(path_dataset, create_using = nx.Graph(), nodetype=str)\n",
        "\n",
        "num_of_nodes = graph.number_of_nodes()\n",
        "count_edges = graph.number_of_edges()\n",
        "#displaying graph info\n",
        "print(\"Number of nodes: \", num_of_nodes)\n",
        "print(\"Number of edges: \", count_edges)\n",
        "\n",
        "#visualising graph\n",
        "# nx.draw_networkx(graph)\n",
        "#using list comphrehension\n",
        "nodes = [node for node in graph.nodes()]\n"
      ]
    },
    {
      "cell_type": "markdown",
      "metadata": {
        "id": "98m5ASH5IXkp"
      },
      "source": [
        "#Diffusion Model"
      ]
    },
    {
      "cell_type": "code",
      "execution_count": 15,
      "metadata": {
        "id": "VHDlykClKfr5"
      },
      "outputs": [],
      "source": [
        "def diffusion_threshold_model(threshold, list_of_seed_nodes):\n",
        "  #access all N seed list\n",
        "  # threshold = 0.5\n",
        "  c=0\n",
        "  activation_fraction=[]\n",
        "  # print(list_of_seed_nodes)\n",
        "  for i in list_of_seed_nodes:\n",
        "    # print(i)\n",
        "    c+=1\n",
        "    # print(\"\\n-----Iter \",c,\"-----\")\n",
        "    # print(num_of_nodes)\n",
        "    state = [0]*num_of_nodes\n",
        "    weighted_value = [threshold]*num_of_nodes\n",
        "\n",
        "    #change state of seed nodes in i\n",
        "    for n in i:\n",
        "      # print(\"New: \",n)\n",
        "      state[int(n)] = 1\n",
        "    # print(state)\n",
        "\n",
        "    #to track num of activated nodes \n",
        "    count_activated_nodes = state.count(1)\n",
        "    prev_count_activated_nodes = 0\n",
        "\n",
        "    #diffusion threshold model\n",
        "    t=0\n",
        "    while prev_count_activated_nodes !=  count_activated_nodes:\n",
        "      t+=1\n",
        "      # print(\"hi\")\n",
        "      # print(\"--------\",t,\"-------\")\n",
        "\n",
        "      prev_count_activated_nodes = count_activated_nodes\n",
        "\n",
        "      for node in graph.nodes():\n",
        "\n",
        "        #execute if state of node is 0\n",
        "        if state[int(node)] != 1:\n",
        "          count_active_neighbors = 0 \n",
        "          count_neighbors = 0\n",
        "\n",
        "          #count active neighbors\n",
        "\n",
        "          for n in graph.neighbors(node):\n",
        "            if state[int(n)] == 1:\n",
        "              count_active_neighbors += 1\n",
        "            count_neighbors += 1\n",
        "          \n",
        "          #calculate weighted value\n",
        "          weighted_value[int(node)] = count_active_neighbors / count_neighbors\n",
        "          # print(f'weighted value of {node}: {weighted_value[int(node)]}')\n",
        "\n",
        "          if weighted_value[int(node)] >= threshold:\n",
        "            state[int(node)] = 1\n",
        "\n",
        "      count_activated_nodes = state.count(1)  \n",
        "      # print(\"State list: \",state)\n",
        "      # print(\"count activated nodes: \", count_activated_nodes)\n",
        "    af = state.count(1) / num_of_nodes\n",
        "    activation_fraction.append(af)\n",
        "    # print(\"Activation fraction: \",af)  \n",
        "    \n",
        "  #call plot function\n",
        "  return(activation_fraction)"
      ]
    },
    {
      "cell_type": "markdown",
      "metadata": {
        "id": "RkWW7ZHUK0od"
      },
      "source": [
        "#extract random nodes from given percent"
      ]
    },
    {
      "cell_type": "code",
      "execution_count": 16,
      "metadata": {
        "id": "-zVluLKLLCP0"
      },
      "outputs": [],
      "source": [
        "import random\n",
        "\n",
        "def random_nodes( percent, listt ):\n",
        "  random_nodes_size = round(percent * num_of_nodes / 100)\n",
        "  random_nodes = random.sample(listt, random_nodes_size)\n",
        "  # print(random_nodes)\n",
        "  return random_nodes\n",
        "\n",
        "# random_node = random_nodes( 15 )\n"
      ]
    },
    {
      "cell_type": "markdown",
      "metadata": {
        "id": "L2Pe8wkkrbo9"
      },
      "source": [
        "#forming global list for 10 simulations for different size"
      ]
    },
    {
      "cell_type": "code",
      "execution_count": 17,
      "metadata": {
        "id": "-guQt6E5rvVi"
      },
      "outputs": [],
      "source": [
        "def random_30_nodes(seed_size_list):\n",
        "  percent = round(30 * num_of_nodes / 100)\n",
        "  \n",
        "  dictt= {}\n",
        "  for i in seed_size_list:\n",
        "    nodes_30_listt = []\n",
        "    for j in range(10):\n",
        "      nodes_30_listt.append(random_nodes(30, nodes))\n",
        "    dictt[i] = nodes_30_listt\n",
        "  print(dictt)\n",
        "  return dictt\n",
        "\n",
        "# random_30_nodes([5,7,10,15])"
      ]
    },
    {
      "cell_type": "markdown",
      "metadata": {
        "id": "eJ1RlElpvqa9"
      },
      "source": []
    },
    {
      "cell_type": "markdown",
      "metadata": {
        "id": "FrNgnR2fRZZK"
      },
      "source": [
        "#finding max af out of listt of afs and returns [af,seedset]\n"
      ]
    },
    {
      "cell_type": "code",
      "execution_count": 18,
      "metadata": {
        "id": "Do4EV7NdRjY_"
      },
      "outputs": [],
      "source": [
        "def find_max_af(listt, random_seeding_listt):\n",
        "  max = 0\n",
        "  seed_set = []\n",
        "  max_af_listt = [] #[af, seed set]\n",
        "  for i in range(len(listt)):\n",
        "    af =listt[i]\n",
        "    if af > max:\n",
        "      max=af\n",
        "      seed_set = random_seeding_listt[i]\n",
        "  \n",
        "  max_af_listt.append(max)\n",
        "  max_af_listt.append(seed_set)\n",
        "  return max_af_listt"
      ]
    },
    {
      "cell_type": "markdown",
      "metadata": {
        "id": "zfBeQXAUdCvH"
      },
      "source": [
        "#Seeding_strategies"
      ]
    },
    {
      "cell_type": "markdown",
      "metadata": {
        "id": "nSbJHz34NVvu"
      },
      "source": [
        "#Random seeding strategy\n"
      ]
    },
    {
      "cell_type": "code",
      "execution_count": 19,
      "metadata": {
        "id": "Al_5eDaxNymr"
      },
      "outputs": [],
      "source": [
        "def random_seeding(threshold, seed_size_list): #returns activated nodes fractions for seed set 5%,7%,10%,15%\n",
        "  \n",
        "  dictt = {}\n",
        "  max_af_seedset_listt=[]\n",
        "  random_seeding_listt = []\n",
        "\n",
        "  for i in seed_size_list:\n",
        "    # random_seeding_listt = []\n",
        "    for j in range(10):\n",
        "      rnodes = random_nodes(i, random30[j])\n",
        "      random_seeding_listt.append(rnodes)\n",
        "    # print(\"Random seeding: \")\n",
        "    # print(random_seeding_listt)\n",
        "    af = diffusion_threshold_model(threshold, random_seeding_listt)\n",
        "    max_af_seedset_listt = find_max_af(af,random_seeding_listt)\n",
        "    random_seeding_listt.clear()\n",
        "    #{seed_percent: [af, seed set]}\n",
        "    dictt[i] = max_af_seedset_listt\n",
        "\n",
        "\n",
        "  print(\"Random seeding strategy: \",dictt)\n",
        "\n",
        "  return dictt\n",
        "\n"
      ]
    },
    {
      "cell_type": "markdown",
      "metadata": {
        "id": "ZIPbe5gWdGpE"
      },
      "source": [
        "#One-hop strategy"
      ]
    },
    {
      "cell_type": "code",
      "execution_count": 38,
      "metadata": {
        "id": "3k5Bwea7dT4F"
      },
      "outputs": [],
      "source": [
        "def OneHop(threshold, seed_size_list):\n",
        "  dictt = {}\n",
        "  max_af_seedset_listt=[]\n",
        "  random_seeding_listt = []\n",
        "\n",
        "  for i in seed_size_list:\n",
        "    random_seeding_listt = []\n",
        "    for j in range(10):\n",
        "      rnodes = random_nodes(i, random30[j])\n",
        "      for k in rnodes:\n",
        "       neighbor = [n for n in graph.neighbors(str(k))]\n",
        "       random_neighbor = random.choice(neighbor)\n",
        "       random_seeding_listt.append(random_neighbor)\n",
        "    print(random_seeding_listt)\n",
        "    af = diffusion_threshold_model(threshold, random_seeding_listt)\n",
        "    max_af_seedset_listt = find_max_af(af,random_seeding_listt)\n",
        "    #{seed_percent: [af, seed set]}\n",
        "    dictt[i] = max_af_seedset_listt\n",
        "\n",
        "\n",
        "  print(\"One-Hop seeding strategy: \",dictt)\n",
        "\n",
        "  return dictt\n",
        "\n",
        "\n"
      ]
    },
    {
      "cell_type": "markdown",
      "metadata": {
        "id": "4gq27H17OPJ3"
      },
      "source": [
        "#centralities"
      ]
    },
    {
      "cell_type": "code",
      "execution_count": 21,
      "metadata": {
        "colab": {
          "base_uri": "https://localhost:8080/"
        },
        "id": "jgyXSSpuORjT",
        "outputId": "893c05d1-1c5f-4fc8-b0d8-7832e7475b21"
      },
      "outputs": [
        {
          "output_type": "stream",
          "name": "stdout",
          "text": [
            "Betweeness centrality:  {'0': 0.43764580327080344, '1': 0.053873556998557, '2': 0.1522637085137085, '3': 0.01196188071188071, '4': 0.0006313131313131313, '5': 0.02998737373737374, '6': 0.029987373737373736, '7': 0.0, '8': 0.056737012987012996, '9': 0.0006313131313131313, '10': 0.0, '11': 0.0, '12': 0.04159151034151034, '13': 0.0, '14': 0.02936056998556999, '15': 0.0, '16': 0.14034842472342476, '17': 0.014727633477633473, '18': 0.0008477633477633478, '19': 0.021702140452140455, '20': 0.0017947330447330447, '21': 0.18215788840788844, '22': 0.0, '23': 0.2750556156806156, '24': 0.0, '25': 0.0, '26': 0.0, '27': 0.0, '28': 0.0, '29': 0.01824494949494949, '30': 0.0038404882154882162, '31': 0.0038690476190476187, '32': 0.0022095959595959595, '33': 0.0}\n",
            "Degree centrality:  {'0': 0.48484848484848486, '1': 0.2727272727272727, '2': 0.30303030303030304, '3': 0.18181818181818182, '4': 0.09090909090909091, '5': 0.12121212121212122, '6': 0.12121212121212122, '7': 0.12121212121212122, '8': 0.15151515151515152, '9': 0.09090909090909091, '10': 0.030303030303030304, '11': 0.06060606060606061, '12': 0.15151515151515152, '13': 0.06060606060606061, '14': 0.09090909090909091, '15': 0.06060606060606061, '16': 0.18181818181818182, '17': 0.12121212121212122, '18': 0.06060606060606061, '19': 0.12121212121212122, '20': 0.09090909090909091, '21': 0.36363636363636365, '22': 0.06060606060606061, '23': 0.48484848484848486, '24': 0.06060606060606061, '25': 0.06060606060606061, '26': 0.06060606060606061, '27': 0.06060606060606061, '28': 0.030303030303030304, '29': 0.15151515151515152, '30': 0.09090909090909091, '31': 0.12121212121212122, '32': 0.09090909090909091, '33': 0.06060606060606061}\n",
            "Closeness centrality:  {'0': 0.5689655172413793, '1': 0.4852941176470588, '2': 0.559322033898305, '3': 0.4647887323943662, '4': 0.3793103448275862, '5': 0.38372093023255816, '6': 0.38372093023255816, '7': 0.44, '8': 0.515625, '9': 0.3793103448275862, '10': 0.36666666666666664, '11': 0.3707865168539326, '12': 0.5076923076923077, '13': 0.375, '14': 0.4925373134328358, '15': 0.375, '16': 0.5409836065573771, '17': 0.4583333333333333, '18': 0.42857142857142855, '19': 0.4520547945205479, '20': 0.44594594594594594, '21': 0.515625, '22': 0.28448275862068967, '23': 0.5409836065573771, '24': 0.3707865168539326, '25': 0.3707865168539326, '26': 0.3707865168539326, '27': 0.3707865168539326, '28': 0.34375, '29': 0.39285714285714285, '30': 0.375, '31': 0.38372093023255816, '32': 0.375, '33': 0.358695652173913}\n"
          ]
        }
      ],
      "source": [
        "betweenness = nx.betweenness_centrality(graph)\n",
        "degreeCentrality = nx.degree_centrality(graph)\n",
        "closeCentrality = nx.closeness_centrality(graph)\n",
        "# eigCentrality = nx.eigenvector_centrality(graph)\n",
        "# Print the betweenness centrality of each node\n",
        "# for node, centrality in betweenness.items():\n",
        "#     print(f\"Node {node}: {centrality}\")\n",
        "\n",
        "print(\"Betweeness centrality: \", betweenness)\n",
        "print(\"Degree centrality: \", degreeCentrality)\n",
        "print(\"Closeness centrality: \", closeCentrality)"
      ]
    },
    {
      "cell_type": "markdown",
      "metadata": {
        "id": "jQUFluQbN2qF"
      },
      "source": [
        "#one-hop hd"
      ]
    },
    {
      "cell_type": "code",
      "execution_count": 39,
      "metadata": {
        "id": "0ccNvaiTN4-m",
        "colab": {
          "base_uri": "https://localhost:8080/"
        },
        "outputId": "00d8c242-fefb-4c39-97f7-5135904e980b"
      },
      "outputs": [
        {
          "output_type": "stream",
          "name": "stdout",
          "text": [
            "list for diffusion: [['0', '23'], ['23', '0'], ['23', '21'], ['23', '21'], ['23', '0'], ['0', '23'], ['0', '23'], ['0', '23'], ['0', '23'], ['0', '21']]\n",
            "list for diffusion: [['0', '23', '2'], ['0', '23', '2'], ['23', '0', '21'], ['0', '21', '1'], ['0', '23', '21'], ['23', '0', '2'], ['0', '23', '21'], ['23', '0', '21'], ['23', '0', '21'], ['23', '21', '2']]\n",
            "list for diffusion: [['0', '23', '2', '1', '3'], ['0', '23', '2', '1', '12'], ['21', '2', '16', '3', '17'], ['0', '21', '8', '29', '31'], ['23', '0', '21', '2', '1'], ['23', '0', '21', '2', '1'], ['0', '23', '21', '2', '1'], ['0', '23', '21', '29', '19'], ['0', '23', '21', '16', '31'], ['23', '0', '21', '2', '3']]\n",
            "list for diffusion: [['23', '0', '21', '2', '1', '16', '29'], ['23', '0', '21', '2', '3', '29', '5'], ['0', '23', '21', '2', '3', '5', '17'], ['23', '21', '2', '3', '16', '8', '6'], ['0', '23', '21', '1', '16', '7', '6'], ['0', '23', '21', '2', '1', '3', '29'], ['0', '23', '2', '1', '5', '7', '30'], ['0', '23', '21', '2', '29', '19', '9'], ['0', '23', '21', '2', '16', '17', '30'], ['21', '2', '1', '16', '5', '6', '31']]\n",
            "One-HopHD seeding strategy:  {5: [0.8529411764705882, ['0', '23']], 10: [0.8529411764705882, ['0', '23', '2']], 15: [0.8529411764705882, ['0', '23', '2', '1', '3']], 20: [1.0, ['23', '0', '21', '2', '3', '29', '5']]}\n",
            "OnehopHD:  {5: [0.8529411764705882, ['0', '23']], 10: [0.8529411764705882, ['0', '23', '2']], 15: [0.8529411764705882, ['0', '23', '2', '1', '3']], 20: [1.0, ['23', '0', '21', '2', '3', '29', '5']]}\n"
          ]
        }
      ],
      "source": [
        "def OneHopHD(threshold, high_degree, between_cent, close_cent, seed_size_list):\n",
        "\n",
        "  dictt={}\n",
        "  list_of_seed_nodes = []\n",
        "\n",
        "  for i in seed_size_list:\n",
        "\n",
        "    random_seeding_listt = []\n",
        "    for j in range(10):\n",
        "\n",
        "      list_of_neighbor = []\n",
        "      #randomly select 15% of nodes\n",
        "      random_nodes_15 = random_nodes(30,random30[j])\n",
        "      \n",
        "      #selcting random one neighbour of each node in Random_nodes(R)\n",
        "      selected_neigh = []\n",
        "      for k in random_nodes_15:\n",
        "        l=[]\n",
        "        #forming neighbor list\n",
        "        for n in graph.neighbors(str(k)):\n",
        "          l.append(n)\n",
        "        \n",
        "        #select randomly 1 neighbor of j \n",
        "        random_neighbor = random.choice(l)\n",
        "\n",
        "        m=len(l)\n",
        "        while m != 0 and random_neighbor in selected_neigh:\n",
        "          random_neighbor = random.choice(l)\n",
        "          m-=1\n",
        "        selected_neigh.append(random_neighbor)\n",
        "\n",
        "        #add it to list of neighbors\n",
        "        list_of_neighbor.append(random_neighbor)\n",
        "\n",
        "\n",
        "      #degree centrality of selected neighbors\n",
        "      # dict->key(node), value(degree)\n",
        "      dict_nodes = {}\n",
        "      for k in list_of_neighbor:\n",
        "        if between_cent == 1:\n",
        "          dict_nodes[k] = betweenness[k]\n",
        "        if high_degree == 1:\n",
        "          dict_nodes[k] = degreeCentrality[k]\n",
        "        # if eig_cent == 1:\n",
        "        #   dict_nodes[k] = eigCentrality[k]\n",
        "        if close_cent == 1:\n",
        "          dict_nodes[k] = closeCentrality[k]\n",
        "      # print(\"Neighbor nodes with their degree: \", dict_nodes)\n",
        "\n",
        "      #get s highest degree nodes from neighbours\n",
        "      # Sort the dictionary by value in descending order\n",
        "      sorted_dict = sorted(dict_nodes.items(), key=lambda x: x[1], reverse=True)\n",
        "\n",
        "      #calulated i percent -> number of nodes\n",
        "      size = round(i * num_of_nodes / 100)\n",
        "\n",
        "        # Extract the top k elements using slicing\n",
        "      top_k = sorted_dict[:size]\n",
        "        # print(\"Seed set \", i,\": \", top_k)\n",
        "\n",
        "        #seed set \n",
        "      seed_set = []\n",
        "      for k in top_k:\n",
        "        seed_set.append(k[0])\n",
        "      # print(\"seed_set: \", seed_set)\n",
        "      list_of_seed_nodes.append(seed_set)\n",
        "\n",
        "    print(\"list for diffusion:\" ,list_of_seed_nodes)\n",
        "      #get activation fraction of diffusion\n",
        "    af = diffusion_threshold_model(threshold, list_of_seed_nodes)\n",
        "    # activation_fraction_matrix[seed_size] = af\n",
        "    max_af_seedset_listt = find_max_af(af,list_of_seed_nodes)\n",
        "    #{seed_percent: [af, seed set]}\n",
        "    dictt[i] = max_af_seedset_listt\n",
        "    list_of_seed_nodes.clear()\n",
        "\n",
        "\n",
        "  print(\"One-HopHD seeding strategy: \",dictt)\n",
        "  return dictt\n",
        "\n",
        "oneHopHd = OneHopHD(0.4 , 1,0,0,[5,10,15,20])\n",
        "print(\"OnehopHD: \", oneHopHd)"
      ]
    },
    {
      "cell_type": "code",
      "source": [
        "def hd_bc_cc(threshold, seed_size_list):\n",
        "  seed_af=[]\n",
        "  dictt = {}\n",
        "  for i in seed_size_list:\n",
        "    size_seedset = round(i * num_of_nodes / 300)\n",
        "    sorted_betweeness = sorted(betweenness.items(), key=lambda x: x[1], reverse=True)\n",
        "    sorted_degree = sorted(degreeCentrality.items(), key=lambda x: x[1], reverse=True)\n",
        "    sorted_close = sorted(closeCentrality.items(), key=lambda x: x[1], reverse=True)\n",
        "    top_hd = sorted_degree[:size_seedset]\n",
        "    seed_set = []\n",
        "    for k in top_hd:\n",
        "      seed_set.append(k[0])\n",
        "    print(sorted_betweeness)\n",
        "\n",
        "    copy_size = size_seedset\n",
        "    # seed_set_bc=[]\n",
        "    for node in sorted_betweeness:\n",
        "      if copy_size == 0:\n",
        "        break\n",
        "      if node[0] not in seed_set:\n",
        "        seed_set.append(node[0])\n",
        "        copy_size = copy_size - 1\n",
        "\n",
        "    copy_size = size_seedset\n",
        "    for node in sorted_close:\n",
        "      if copy_size == 0:\n",
        "        break\n",
        "      if node[0] not in seed_set:\n",
        "        seed_set.append(node[0])\n",
        "        copy_size = copy_size - 1\n",
        "\n",
        "    print(\"Seed set formed: \",i,\":: \", seed_set)\n",
        "\n",
        "    \n",
        "    \n",
        "    #{seed_percent: [af, seed set]}\n",
        "    seed_af.append(seed_set)\n",
        "    seed_set.clear()\n",
        "\n",
        "  af = diffusion_threshold_model(threshold, seed_af)\n",
        "  print(\"Af: \",af)\n",
        "  print(\"HD_BC_CC seeding strategy: \",dictt)\n",
        "  return dictt\n",
        "\n",
        "out = hd_bc_cc(0.4 , [5,10,15,20])\n",
        "print(\"HD_bc_cc: \", out)\n",
        "\n"
      ],
      "metadata": {
        "colab": {
          "base_uri": "https://localhost:8080/"
        },
        "id": "2WoncwHTarT5",
        "outputId": "1db5101b-e70b-4bf9-8385-29e85851dd4b"
      },
      "execution_count": 37,
      "outputs": [
        {
          "output_type": "stream",
          "name": "stdout",
          "text": [
            "[('0', 0.43764580327080344), ('23', 0.2750556156806156), ('21', 0.18215788840788844), ('2', 0.1522637085137085), ('16', 0.14034842472342476), ('8', 0.056737012987012996), ('1', 0.053873556998557), ('12', 0.04159151034151034), ('5', 0.02998737373737374), ('6', 0.029987373737373736), ('14', 0.02936056998556999), ('19', 0.021702140452140455), ('29', 0.01824494949494949), ('17', 0.014727633477633473), ('3', 0.01196188071188071), ('31', 0.0038690476190476187), ('30', 0.0038404882154882162), ('32', 0.0022095959595959595), ('20', 0.0017947330447330447), ('18', 0.0008477633477633478), ('4', 0.0006313131313131313), ('9', 0.0006313131313131313), ('7', 0.0), ('10', 0.0), ('11', 0.0), ('13', 0.0), ('15', 0.0), ('22', 0.0), ('24', 0.0), ('25', 0.0), ('26', 0.0), ('27', 0.0), ('28', 0.0), ('33', 0.0)]\n",
            "Seed set formed:  5 ::  ['0', '23', '2']\n",
            "[('0', 0.43764580327080344), ('23', 0.2750556156806156), ('21', 0.18215788840788844), ('2', 0.1522637085137085), ('16', 0.14034842472342476), ('8', 0.056737012987012996), ('1', 0.053873556998557), ('12', 0.04159151034151034), ('5', 0.02998737373737374), ('6', 0.029987373737373736), ('14', 0.02936056998556999), ('19', 0.021702140452140455), ('29', 0.01824494949494949), ('17', 0.014727633477633473), ('3', 0.01196188071188071), ('31', 0.0038690476190476187), ('30', 0.0038404882154882162), ('32', 0.0022095959595959595), ('20', 0.0017947330447330447), ('18', 0.0008477633477633478), ('4', 0.0006313131313131313), ('9', 0.0006313131313131313), ('7', 0.0), ('10', 0.0), ('11', 0.0), ('13', 0.0), ('15', 0.0), ('22', 0.0), ('24', 0.0), ('25', 0.0), ('26', 0.0), ('27', 0.0), ('28', 0.0), ('33', 0.0)]\n",
            "Seed set formed:  10 ::  ['0', '23', '2']\n",
            "[('0', 0.43764580327080344), ('23', 0.2750556156806156), ('21', 0.18215788840788844), ('2', 0.1522637085137085), ('16', 0.14034842472342476), ('8', 0.056737012987012996), ('1', 0.053873556998557), ('12', 0.04159151034151034), ('5', 0.02998737373737374), ('6', 0.029987373737373736), ('14', 0.02936056998556999), ('19', 0.021702140452140455), ('29', 0.01824494949494949), ('17', 0.014727633477633473), ('3', 0.01196188071188071), ('31', 0.0038690476190476187), ('30', 0.0038404882154882162), ('32', 0.0022095959595959595), ('20', 0.0017947330447330447), ('18', 0.0008477633477633478), ('4', 0.0006313131313131313), ('9', 0.0006313131313131313), ('7', 0.0), ('10', 0.0), ('11', 0.0), ('13', 0.0), ('15', 0.0), ('22', 0.0), ('24', 0.0), ('25', 0.0), ('26', 0.0), ('27', 0.0), ('28', 0.0), ('33', 0.0)]\n",
            "Seed set formed:  15 ::  ['0', '23', '21', '2', '16', '8']\n",
            "[('0', 0.43764580327080344), ('23', 0.2750556156806156), ('21', 0.18215788840788844), ('2', 0.1522637085137085), ('16', 0.14034842472342476), ('8', 0.056737012987012996), ('1', 0.053873556998557), ('12', 0.04159151034151034), ('5', 0.02998737373737374), ('6', 0.029987373737373736), ('14', 0.02936056998556999), ('19', 0.021702140452140455), ('29', 0.01824494949494949), ('17', 0.014727633477633473), ('3', 0.01196188071188071), ('31', 0.0038690476190476187), ('30', 0.0038404882154882162), ('32', 0.0022095959595959595), ('20', 0.0017947330447330447), ('18', 0.0008477633477633478), ('4', 0.0006313131313131313), ('9', 0.0006313131313131313), ('7', 0.0), ('10', 0.0), ('11', 0.0), ('13', 0.0), ('15', 0.0), ('22', 0.0), ('24', 0.0), ('25', 0.0), ('26', 0.0), ('27', 0.0), ('28', 0.0), ('33', 0.0)]\n",
            "Seed set formed:  20 ::  ['0', '23', '21', '2', '16', '8']\n",
            "Af:  [0.0, 0.0, 0.0, 0.0]\n",
            "HD_BC_CC seeding strategy:  {}\n",
            "HD_bc_cc:  {}\n"
          ]
        }
      ]
    },
    {
      "cell_type": "markdown",
      "metadata": {
        "id": "VBJ7DK5Ivu7h"
      },
      "source": [
        "#calling seeding strategy"
      ]
    },
    {
      "cell_type": "code",
      "execution_count": 23,
      "metadata": {
        "id": "-2sJaUolvyLB"
      },
      "outputs": [],
      "source": [
        "def seeding_strategies(percent):\n",
        "  listt = []\n",
        "  for i in range(10):\n",
        "    random_30 = random_nodes(percent , nodes)\n",
        "    listt.append(random_30)\n",
        "  # print(listt)\n",
        "  return listt\n",
        "\n",
        "random30 = seeding_strategies(30)\n",
        "\n",
        "\n",
        "\n"
      ]
    },
    {
      "cell_type": "code",
      "execution_count": 24,
      "metadata": {
        "id": "9o32HLwOX6kb",
        "colab": {
          "base_uri": "https://localhost:8080/"
        },
        "outputId": "c0fe4993-1a54-4f9f-8ab2-dba3c61462cf"
      },
      "outputs": [
        {
          "output_type": "stream",
          "name": "stdout",
          "text": [
            "Random seeding strategy:  {5: [0.058823529411764705, ['13', '22']], 10: [0.14705882352941177, ['23', '1', '16']], 15: [0.3235294117647059, ['0', '18', '23', '1', '31']], 20: [0.23529411764705882, ['14', '22', '10', '31', '23', '0', '13']]}\n",
            "Random seeding:  {5: [0.058823529411764705, ['13', '22']], 10: [0.14705882352941177, ['23', '1', '16']], 15: [0.3235294117647059, ['0', '18', '23', '1', '31']], 20: [0.23529411764705882, ['14', '22', '10', '31', '23', '0', '13']]}\n",
            "One-Hop seeding strategy:  {5: [0.11764705882352941, '30'], 10: [0.11764705882352941, '30'], 15: [0.11764705882352941, '30'], 20: [0.11764705882352941, '30']}\n",
            "Onehop:  {5: [0.11764705882352941, '30'], 10: [0.11764705882352941, '30'], 15: [0.11764705882352941, '30'], 20: [0.11764705882352941, '30']}\n",
            "[['23', '0'], ['0', '23'], ['0', '23'], ['23', '0'], ['0', '23'], ['0', '23'], ['0', '23'], ['0', '23'], ['23', '21'], ['0', '23']]\n",
            "[['0', '23', '21'], ['23', '0', '2'], ['0', '23', '21'], ['23', '21', '2'], ['23', '0', '21'], ['23', '0', '2'], ['0', '23', '21'], ['0', '23', '21'], ['23', '0', '21'], ['23', '0', '21']]\n",
            "[['0', '23', '1', '8', '6'], ['23', '0', '21', '2', '3'], ['23', '0', '21', '2', '12'], ['23', '21', '19', '6', '17'], ['0', '23', '21', '1', '16'], ['23', '0', '21', '2', '3'], ['23', '0', '21', '2', '1'], ['0', '23', '21', '2', '12'], ['0', '23', '21', '1', '16'], ['23', '21', '2', '3', '16']]\n",
            "[['23', '0', '2', '1', '7', '5', '30'], ['23', '0', '21', '2', '1', '3', '29'], ['0', '23', '21', '2', '17', '7', '5'], ['23', '21', '2', '1', '16', '12', '5'], ['0', '23', '21', '1', '3', '30', '4'], ['0', '23', '21', '1', '17', '5', '32'], ['0', '23', '21', '1', '29', '5', '32'], ['0', '23', '21', '2', '1', '6', '5'], ['23', '0', '21', '16', '19', '30', '20'], ['0', '21', '2', '16', '3', '8', '29']]\n",
            "One-HopHD seeding strategy:  {5: [0.20588235294117646, ['23', '21']], 10: [0.35294117647058826, ['0', '23', '21']], 15: [0.6764705882352942, ['23', '0', '21', '2', '3']], 20: [1.0, ['0', '23', '21', '1', '17', '5', '32']]}\n",
            "OnehopHD:  {5: [0.20588235294117646, ['23', '21']], 10: [0.35294117647058826, ['0', '23', '21']], 15: [0.6764705882352942, ['23', '0', '21', '2', '3']], 20: [1.0, ['0', '23', '21', '1', '17', '5', '32']]}\n",
            "[['0', '23'], ['0', '23'], ['0', '23'], ['0', '23'], ['0', '23'], ['0', '23'], ['0', '23'], ['0', '23'], ['23', '21'], ['23', '21']]\n",
            "[['0', '23', '21'], ['0', '23', '21'], ['0', '23', '21'], ['23', '21', '2'], ['0', '23', '21'], ['0', '23', '21'], ['0', '23', '2'], ['0', '23', '21'], ['0', '23', '21'], ['0', '23', '21']]\n",
            "[['0', '2', '16', '6', '29'], ['0', '21', '2', '16', '1'], ['23', '21', '2', '16', '5'], ['0', '23', '21', '2', '6'], ['0', '23', '21', '8', '5'], ['0', '21', '2', '16', '1'], ['0', '23', '21', '2', '1'], ['0', '23', '21', '2', '5'], ['23', '21', '2', '1', '14'], ['0', '21', '2', '16', '8']]\n",
            "[['0', '23', '21', '2', '1', '6', '29'], ['0', '23', '21', '16', '1', '6', '3'], ['0', '23', '21', '2', '16', '5', '19'], ['0', '23', '21', '5', '6', '19', '29'], ['0', '23', '21', '1', '5', '19', '29'], ['0', '23', '21', '16', '1', '6', '17'], ['0', '23', '21', '2', '1', '5', '32'], ['0', '23', '21', '2', '5', '17', '20'], ['0', '23', '21', '2', '16', '1', '19'], ['23', '21', '2', '16', '5', '3', '4']]\n",
            "One-HopHD seeding strategy:  {5: [0.20588235294117646, ['23', '21']], 10: [0.35294117647058826, ['0', '23', '21']], 15: [0.6764705882352942, ['0', '23', '21', '2', '1']], 20: [1.0, ['0', '23', '21', '2', '1', '6', '29']]}\n",
            "OnehopBC:  {5: [0.20588235294117646, ['23', '21']], 10: [0.35294117647058826, ['0', '23', '21']], 15: [0.6764705882352942, ['0', '23', '21', '2', '1']], 20: [1.0, ['0', '23', '21', '2', '1', '6', '29']]}\n",
            "[['0', '2'], ['0', '2'], ['0', '2'], ['2', '23'], ['0', '2'], ['0', '2'], ['2', '23'], ['0', '2'], ['0', '2'], ['0', '2']]\n",
            "[['0', '23', '21'], ['0', '23', '21'], ['0', '2', '23'], ['0', '2', '23'], ['0', '23', '1'], ['0', '2', '16'], ['0', '2', '23'], ['0', '2', '23'], ['0', '2', '16'], ['2', '23', '16']]\n",
            "[['0', '2', '23', '1', '20'], ['0', '2', '23', '16', '21'], ['0', '2', '23', '16', '21'], ['0', '2', '23', '21', '7'], ['0', '23', '21', '19', '29'], ['0', '23', '21', '1', '3'], ['0', '2', '23', '21', '14'], ['0', '23', '21', '17', '19'], ['0', '2', '23', '16', '21'], ['0', '2', '23', '21', '3']]\n",
            "[['0', '23', '12', '1', '17', '29', '6'], ['0', '2', '23', '21', '1', '3', '17'], ['0', '23', '16', '21', '14', '1', '3'], ['0', '2', '23', '16', '21', '17', '19'], ['0', '16', '23', '21', '1', '29', '9'], ['0', '2', '23', '16', '21', '1', '3'], ['0', '2', '23', '1', '17', '4', '30'], ['0', '2', '23', '21', '17', '18', '4'], ['0', '2', '23', '21', '12', '1', '19'], ['2', '23', '21', '12', '1', '17', '19']]\n",
            "One-HopHD seeding strategy:  {5: [0.11764705882352941, ['2', '23']], 10: [0.35294117647058826, ['0', '23', '21']], 15: [0.6764705882352942, ['0', '2', '23', '21', '7']], 20: [0.9117647058823529, ['0', '16', '23', '21', '1', '29', '9']]}\n",
            "OnehopBC:  {5: [0.11764705882352941, ['2', '23']], 10: [0.35294117647058826, ['0', '23', '21']], 15: [0.6764705882352942, ['0', '2', '23', '21', '7']], 20: [0.9117647058823529, ['0', '16', '23', '21', '1', '29', '9']]}\n"
          ]
        }
      ],
      "source": [
        "threshold = 0.6\n",
        "seed_size_percent = [5,10,15,20]\n",
        "\n",
        "random_seed = random_seeding(threshold , seed_size_percent)\n",
        "print(\"Random seeding: \", random_seed)\n",
        "oneHop = OneHop(threshold , seed_size_percent)\n",
        "print(\"Onehop: \", oneHop)\n",
        "oneHopHd = OneHopHD(threshold , 1,0,0,seed_size_percent)\n",
        "print(\"OnehopHD: \", oneHopHd)\n",
        "oneHopBc = OneHopHD(threshold , 0,1,0,seed_size_percent)\n",
        "print(\"OnehopBC: \", oneHopBc)\n",
        "oneHopCc = OneHopHD(threshold , 0,0,1,seed_size_percent)\n",
        "print(\"OnehopBC: \", oneHopCc)"
      ]
    },
    {
      "cell_type": "markdown",
      "metadata": {
        "id": "m48K_PWpc4M8"
      },
      "source": [
        "#Plotting strategy\n",
        "\n",
        "\n"
      ]
    },
    {
      "cell_type": "markdown",
      "metadata": {
        "id": "7tvodZpXbdpO"
      },
      "source": [
        "#extract activated fraction"
      ]
    },
    {
      "cell_type": "code",
      "execution_count": 25,
      "metadata": {
        "id": "eNmUoDrsbiMW"
      },
      "outputs": [],
      "source": [
        "def extract_activated_fraction(dictt):\n",
        "  af = list(dictt.values())\n",
        "  y=[]\n",
        "  for i in af:\n",
        "    y.append(i[0])\n",
        "  print(y)\n",
        "  return y\n"
      ]
    },
    {
      "cell_type": "markdown",
      "metadata": {
        "id": "jk1TwdAyVvlx"
      },
      "source": [
        "#plot graph"
      ]
    },
    {
      "cell_type": "code",
      "execution_count": 26,
      "metadata": {
        "id": "hlpu_gL_VxS7",
        "colab": {
          "base_uri": "https://localhost:8080/",
          "height": 559
        },
        "outputId": "abb27316-f9db-4ceb-8d8b-ac832f3a8d59"
      },
      "outputs": [
        {
          "output_type": "stream",
          "name": "stdout",
          "text": [
            "[0.058823529411764705, 0.14705882352941177, 0.3235294117647059, 0.23529411764705882]\n",
            "[0.11764705882352941, 0.11764705882352941, 0.11764705882352941, 0.11764705882352941]\n",
            "[0.20588235294117646, 0.35294117647058826, 0.6764705882352942, 1.0]\n",
            "[0.20588235294117646, 0.35294117647058826, 0.6764705882352942, 1.0]\n",
            "[0.11764705882352941, 0.35294117647058826, 0.6764705882352942, 0.9117647058823529]\n"
          ]
        },
        {
          "output_type": "display_data",
          "data": {
            "text/plain": [
              "<Figure size 640x480 with 1 Axes>"
            ],
            "image/png": "[encoded data removed]"
          },
          "metadata": {}
        }
      ],
      "source": [
        "import matplotlib.pyplot as plt\n",
        "import numpy as np\n",
        "\n",
        "\n",
        "def plotting_graph(threshold, random, oneHop, oneHopHd):\n",
        "  seed_set_sizes = [5,10,15,20]\n",
        "  x = np.array(seed_set_sizes)\n",
        "  y = extract_activated_fraction(random)\n",
        "  plt.plot(x,y,label=\"Random Strategy\", marker = 'o', )\n",
        "\n",
        "  z = extract_activated_fraction(oneHop)\n",
        "  plt.plot(x,z,label=\"One-Hop\", marker = 'x', )\n",
        "\n",
        "  h = extract_activated_fraction(oneHopHd)\n",
        "  plt.plot(x,h,label=\"One-HopHd\", marker = '+', )\n",
        "\n",
        "  b = extract_activated_fraction(oneHopBc)\n",
        "  plt.plot(x,b,label=\"One-HopBc\", marker = '.', )\n",
        "\n",
        "  c = extract_activated_fraction(oneHopCc)\n",
        "  plt.plot(x,c,label=\"One-HopCc\", marker = '*', )\n",
        "\n",
        "  plt.title(f\"Rate of activation: threshold:{threshold}\")\n",
        "  plt.xlabel(f\"Seed set size percentage\")\n",
        "  plt.ylabel(\"Activated nodes percent\")\n",
        "  plt.legend()\n",
        "  plt.show()\n",
        "\n",
        "threshold = 0.6\n",
        "plotting_graph(threshold , random_seed, oneHop, oneHopHd)\n"
      ]
    }
  ],
  "metadata": {
    "colab": {
      "provenance": [],
      "authorship_tag": "ABX9TyPRKtujbdflyGc5b/IEss3q",
      "include_colab_link": true
    },
    "kernelspec": {
      "display_name": "Python 3",
      "name": "python3"
    },
    "language_info": {
      "name": "python"
    }
  },
  "nbformat": 4,
  "nbformat_minor": 0
}