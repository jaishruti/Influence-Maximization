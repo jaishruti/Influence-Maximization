{
  "nbformat": 4,
  "nbformat_minor": 0,
  "metadata": {
    "colab": {
      "provenance": [],
      "authorship_tag": "ABX9TyPUVKRR3VLmlePvqatTwp3F",
      "include_colab_link": true
    },
    "kernelspec": {
      "name": "python3",
      "display_name": "Python 3"
    },
    "language_info": {
      "name": "python"
    }
  },
  "cells": [
    {
      "cell_type": "markdown",
      "metadata": {
        "id": "view-in-github",
        "colab_type": "text"
      },
      "source": [
        "<a href=\"https://colab.research.google.com/github/jaishruti/Influence-Maximization/blob/main/Project.ipynb\" target=\"_parent\"><img src=\"https://colab.research.google.com/assets/colab-badge.svg\" alt=\"Open In Colab\"/></a>"
      ]
    },
    {
      "cell_type": "markdown",
      "source": [
        "#Forming graph from edge data given in a text file \n",
        "#displaying graph\n",
        "#forming adjacency list \n",
        "\n",
        "\n",
        "\n"
      ],
      "metadata": {
        "id": "pE4edEA36LWe"
      }
    },
    {
      "cell_type": "code",
      "execution_count": 54,
      "metadata": {
        "colab": {
          "base_uri": "https://localhost:8080/"
        },
        "id": "DfYJ625w5ibl",
        "outputId": "415fc069-6134-4567-a077-bb48977284a4"
      },
      "outputs": [
        {
          "output_type": "stream",
          "name": "stdout",
          "text": [
            "Outgree list: {0: [1, 2, 3, 5, 6, 7, 8, 9, 10, 11, 12, 13, 14, 15, 16], 1: [0, 2, 3, 7, 12, 13, 14, 15, 17], 2: [0, 1, 3, 7, 8, 18, 12, 19, 20, 21], 3: [0, 1, 2, 7, 11, 12], 4: [0, 6, 9], 5: [0, 6, 9, 22], 6: [0, 4, 5, 22], 7: [0, 1, 2, 3], 8: [0, 2, 17, 21, 23], 18: [2, 23], 9: [0, 4, 5], 10: [0], 11: [0, 3], 12: [0, 1, 2, 3, 23], 24: [21, 23], 25: [21, 23], 22: [5, 6], 13: [0, 1], 26: [21, 23], 14: [0, 1, 23], 27: [21, 23], 15: [0, 1], 28: [21], 29: [30, 19, 31, 21, 23], 32: [30, 19, 16], 30: [29, 32, 16], 33: [31, 23], 19: [2, 29, 32, 23], 20: [2, 16, 23], 31: [29, 33, 21, 23], 17: [1, 8, 21, 23], 16: [0, 32, 30, 20, 21, 23], 21: [2, 8, 24, 25, 26, 27, 28, 29, 31, 17, 16, 23], 23: [8, 18, 12, 24, 25, 26, 14, 27, 29, 33, 19, 20, 31, 17, 16, 21]}\n",
            "Ingree list: {1: [0, 2, 3, 7, 12, 13, 14, 15, 17], 2: [0, 1, 3, 7, 8, 18, 12, 19, 20, 21], 3: [0, 1, 2, 7, 11, 12], 5: [0, 6, 9, 22], 6: [0, 4, 5, 22], 7: [0, 1, 2, 3], 8: [0, 2, 17, 21, 23], 9: [0, 4, 5], 10: [0], 11: [0, 3], 12: [0, 1, 2, 3, 23], 13: [0, 1], 14: [0, 1, 23], 15: [0, 1], 16: [0, 32, 30, 20, 21, 23], 0: [1, 2, 3, 4, 5, 6, 7, 8, 9, 10, 11, 12, 13, 14, 15, 16], 17: [1, 8, 21, 23], 18: [2, 23], 19: [2, 29, 32, 23], 20: [2, 16, 23], 21: [2, 8, 24, 25, 26, 27, 28, 29, 31, 17, 16, 23], 22: [5, 6], 4: [6, 9], 23: [8, 18, 12, 24, 25, 26, 14, 27, 29, 33, 19, 20, 31, 17, 16, 21], 30: [29, 32, 16], 31: [29, 33, 21, 23], 29: [30, 19, 31, 21, 23], 32: [30, 19, 16], 33: [31, 23], 24: [21, 23], 25: [21, 23], 26: [21, 23], 27: [21, 23], 28: [21]}\n",
            "DiGraph with 34 nodes and 153 edges\n",
            "totalNodes:  34\n"
          ]
        }
      ],
      "source": [
        "import networkx as nx\n",
        "import re\n",
        "G = nx.DiGraph()\n",
        "file1 = open(\"/content/testcolab.txt\", \"r\")\n",
        "\n",
        "#opens file that holds data\n",
        "f = open('/content/testcolab.txt', 'r+')\n",
        "adjList={}\n",
        "#this dict contains nodes(values) that follow a node(key)\n",
        "IndegreeList={}\n",
        "for line in f.readlines():\n",
        "    # print(line)\n",
        "    #removing extra spaces in between vertices\n",
        "    newLine=re.sub(' +',' ',line)\n",
        "     \n",
        "    #extracting vertex having edge\n",
        "    edgeVertex=(str(newLine)).split(\" \")\n",
        "\n",
        "    #converting to int\n",
        "    vertex1=int(edgeVertex[0])\n",
        "    #checking if key vertex1 not exists in dict then add it\n",
        "    if vertex1 not in adjList:\n",
        "      adjList[vertex1]=[]\n",
        "\n",
        "    vertex2=int(edgeVertex[1])\n",
        "    #checking if key vertex2 not exists in dict then add it\n",
        "    if vertex2 not in IndegreeList:\n",
        "      IndegreeList[vertex2]=[]\n",
        "    #adding edge\n",
        "    G.add_edge(vertex1,vertex2)\n",
        "\n",
        "    #adding entry to adjacency list\n",
        "    adjList[vertex1].append(vertex2)\n",
        "    #adding the follower to IndegreeList\n",
        "    IndegreeList[vertex2].append(vertex1)\n",
        "f.close()\n",
        "\n",
        "#adjacency list (dict{key:value})\n",
        "print(\"Outgree list:\",adjList)\n",
        "print(\"Ingree list:\",IndegreeList)\n",
        "\n",
        "#prints number of graph nodes and edges\n",
        "print(G)\n",
        "totalNodes=G.number_of_nodes()\n",
        "print(\"totalNodes: \",totalNodes)\n",
        "\n",
        "#draws graph\n",
        "# nx.draw(G, with_labels=True, font_weight='bold')\n",
        "\n"
      ]
    },
    {
      "cell_type": "markdown",
      "source": [
        "#Finding highest out degree nodes"
      ],
      "metadata": {
        "id": "BPeNuRTtVgUY"
      }
    },
    {
      "cell_type": "code",
      "source": [
        "vertexWithMaxNodes=[]\n",
        "numberOfOutgoingEdges=[]\n",
        "for vertex in adjList:\n",
        "  numberOfOutgoingEdges.append(len(adjList[vertex]))\n",
        "  # numberOfOutgoingEdges[vertex]=len(adjList[vertex])\n",
        "print(\"Outdegree of nodes 0-\",totalNodes-1,\" :\")\n",
        "print(numberOfOutgoingEdges)\n",
        "\n",
        "maxOutdegree=max(numberOfOutgoingEdges)\n",
        "for i in range(totalNodes):\n",
        "  if numberOfOutgoingEdges[i] == maxOutdegree:\n",
        "    vertexWithMaxNodes.append(i)\n",
        "    \n",
        "print(\"Node having maximum outdegree: \",vertexWithMaxNodes)"
      ],
      "metadata": {
        "colab": {
          "base_uri": "https://localhost:8080/"
        },
        "id": "X8M1iQg_Vw0r",
        "outputId": "68821235-7bdd-4a46-e1d0-9b1cfa3b82a7"
      },
      "execution_count": 52,
      "outputs": [
        {
          "output_type": "stream",
          "name": "stdout",
          "text": [
            "Outdegree of nodes 0- 33  :\n",
            "[15, 9, 10, 6, 3, 4, 4, 4, 5, 2, 3, 1, 2, 5, 2, 2, 2, 2, 2, 3, 2, 2, 1, 5, 3, 3, 2, 4, 3, 4, 4, 6, 12, 16]\n",
            "Node having maximum outdegree:  [0, 33]\n"
          ]
        }
      ]
    },
    {
      "cell_type": "markdown",
      "source": [
        "#Finding nodes with maximum followers\n"
      ],
      "metadata": {
        "id": "tweXXDUJcPF5"
      }
    },
    {
      "cell_type": "code",
      "source": [
        "#a->b that means a is a follower and b is the person followed\n",
        "vertexWithMaxFollowers=[]\n",
        "numberOfIndegreeEdges=[]\n",
        "#forming list of total incoming edges to a node\n",
        "for vertex in IndegreeList:\n",
        "  numberOfIndegreeEdges.append(len(IndegreeList[vertex]))\n",
        "  # numberOfOutgoingEdges[vertex]=len(adjList[vertex])\n",
        "print(\"Indegree of nodes 0-\",totalNodes-1,\" :\")\n",
        "print(numberOfIndegreeEdges)\n",
        "\n",
        "maxIndegree=max(numberOfIndegreeEdges)\n",
        "for i in range(totalNodes):\n",
        "  if numberOfIndegreeEdges[i] == maxIndegree:\n",
        "    vertexWithMaxFollowers.append(i)\n",
        "\n",
        "print(\"Node having maximum Indegree(Followers): \",vertexWithMaxFollowers)"
      ],
      "metadata": {
        "colab": {
          "base_uri": "https://localhost:8080/"
        },
        "id": "4ejKZ6cXcYao",
        "outputId": "1cc27d0d-d8e7-43e0-c792-0a79ef80c95f"
      },
      "execution_count": 55,
      "outputs": [
        {
          "output_type": "stream",
          "name": "stdout",
          "text": [
            "Indegree of nodes 0- 33  :\n",
            "[9, 10, 6, 4, 4, 4, 5, 3, 1, 2, 5, 2, 3, 2, 6, 16, 4, 2, 4, 3, 12, 2, 2, 16, 3, 4, 5, 3, 2, 2, 2, 2, 2, 1]\n",
            "Node having maximum outdegree:  [15, 23]\n"
          ]
        }
      ]
    }
  ]
}